{
 "cells": [
  {
   "cell_type": "markdown",
   "id": "1047ca54",
   "metadata": {},
   "source": [
    "# Basic ML for application in Radar signal processing\n",
    "Adithya Jayan\n",
    "\n",
    "Images taken from: Coursera - Introduction to deep learning - HSE university"
   ]
  },
  {
   "cell_type": "markdown",
   "id": "a00cb754",
   "metadata": {},
   "source": [
    "### Some Basic concepts to know"
   ]
  },
  {
   "cell_type": "markdown",
   "id": "a9cab248",
   "metadata": {},
   "source": [
    "What is machine Learning? \n",
    "<img src=\"Images/machine-learning-map.png\" alt=\"ML map flowchart\" width=\"900\"/>\n"
   ]
  },
  {
   "cell_type": "markdown",
   "id": "943e4611",
   "metadata": {},
   "source": [
    "## Classification Problem"
   ]
  },
  {
   "cell_type": "markdown",
   "id": "5497fcb7",
   "metadata": {},
   "source": [
    "### (Unsupervised Algorithm): How k means clustering works: \n",
    "\n",
    "1. <img src=\"Images/1.png\" alt=\"Kmeans1\" width=\"400\"/>\n",
    "\n",
    "\n",
    "2. <img src=\"Images/2.png\" alt=\"Kmeans2\" width=\"400\"/>\n",
    "\n",
    "\n",
    "3. <img src=\"Images/3.png\" alt=\"Kmeans3\" width=\"400\"/>\n",
    "\n",
    "\n",
    "4. <img src=\"Images/4.png\" alt=\"Kmeans4\" width=\"400\"/>\n",
    "\n",
    "\n",
    "5. <img src=\"Images/5.png\" alt=\"Kmeans5\" width=\"400\"/>\n",
    "\n",
    "\n",
    "6. <img src=\"Images/6.png\" alt=\"Kmeans6\" width=\"400\"/>\n",
    "\n",
    "\n",
    "7. <img src=\"Images/7.png\" alt=\"Kmeans7\" width=\"400\"/>\n",
    "\n",
    "\n",
    "8. <img src=\"Images/8.png\" alt=\"Kmeans8\" width=\"400\"/>"
   ]
  },
  {
   "cell_type": "markdown",
   "id": "68160fe1",
   "metadata": {},
   "source": [
    "### (Supervised Algorithm): How KNN works (K nearest Neighbours)\n",
    "Ref: https://www.javatpoint.com/k-nearest-neighbor-algorithm-for-machine-learning\n",
    "\n",
    "<img src=\"Images/KNN1.jpg\" alt=\"KNN1\" width=\"400\"/>\n",
    "\n",
    "- Step-1: Select the number K of the neighbors (Say 5)\n",
    "\n",
    "\n",
    "- Step-2: Calculate the Euclidean distance of K number of neighbors\n",
    "\n",
    "\n",
    "- Step-3: Take the K nearest neighbors as per the calculated Euclidean distance.\n",
    "<img src=\"Images/KNN2.jpg\" alt=\"KNN2\" width=\"400\"/>\n",
    "\n",
    "- Step-4: Among these k neighbors, count the number of the data points in each category.\n",
    "\n",
    "\n",
    "- Step-5: Assign the new data points to that category for which the number of the neighbor is maximum.\n",
    "\n",
    "\n",
    "- Step-6: Our model is ready."
   ]
  },
  {
   "cell_type": "markdown",
   "id": "4f3d10bf",
   "metadata": {},
   "source": [
    "## Regression"
   ]
  },
  {
   "cell_type": "markdown",
   "id": "414e1884",
   "metadata": {},
   "source": [
    "### Linear regression\n",
    "<img src=\"Images/LR1.jpg\" alt=\"Linear Regression\" width=\"400\"/>\n",
    "\n",
    "We have an equation y = mx + c\n",
    "Here: \n",
    "- X: Training data\n",
    "- Y: Labels to the data\n",
    "- C: The intercept\n",
    "- m: The coefficient\n",
    "\n",
    "Cost Function (J): \n",
    "J = 1/n * sum(square(Y_predicted - Y_true)).  (Basically the RMSE)\n",
    "\n",
    "We try to minimize this by starting with a random m and c and then iteratively optimizing it through gradient descent."
   ]
  },
  {
   "cell_type": "markdown",
   "id": "9c535127",
   "metadata": {},
   "source": [
    "#### Data fitting\n",
    "\n",
    "Data fitting refers to how well the model learns the data. In general, 3 possible outcomes exist.\n",
    "- The data is learnt properly (i.e Perfectly fit)\n",
    "- The data is not learn properly (i.e Underfit)\n",
    "- The model has learnt the training data too well (i.e Overfit)\n",
    "\n",
    "Underfit Model: Here the model has over-generalized the data. i.e it hasn't learnt enough information. This can generally be fixed by training for more number of iterations. This can also happen if the model is not complex enough to learn the data.<img src=\"Images/Underfit.jpg\" alt=\"Underfit Model\" width=\"300\"/>\n",
    "\n",
    "A good fit: This is the result that we intend to achieve. The model has learnt the data well and is general enought to give good performance even on unseen data.\n",
    "<img src=\"Images/Goodfit.jpg\" alt=\"Well fitted Model\" width=\"300\"/>\n",
    "\n",
    "Overfit model: Here the model has learnt the data too perfectly.(Basically by-heart-ed the traing data). Thus the performance of the model will be bad as its predictions on new unseen data. This generally happens when the model taken is too complex. It can be avoided by increasing the amount of training data or by using regularisation functions.\n",
    "<img src=\"Images/Overfit.jpg\" alt=\"Overfit Model\" width=\"300\"/>\n",
    "\n",
    "#### Regularisation\n",
    "\n",
    "- Weight panalty\n",
    "- L1 penalty\n",
    "- L2 penalty\n",
    "- Droppout\n",
    "- Early stopping , collect more data, data augmentation etc can also help stop overfitting."
   ]
  },
  {
   "cell_type": "markdown",
   "id": "fc6f29fc",
   "metadata": {},
   "source": [
    "#### Data splitting\n",
    "\n",
    "Generally, the total available data is devided into 3 parts.\n",
    "- Test data\n",
    "- Train data\n",
    "- Validation data\n",
    "\n",
    "The train data is used to train the model. It is the bulk of the data.\n",
    "The test data is a small fraction of data that is not present in the train data. It is essentally data the model has not seen and can be used to test the performance of the model after training. This is important as testing using training data can lead to overfitting.\n",
    "\n",
    "Generally testing and training is repreated multiple times until a good score is achived. Validation data is only used after all the training and testing is completed. This makes sure we havent accidentally tweaked the parameters manually to fit the test data."
   ]
  }
 ],
 "metadata": {
  "kernelspec": {
   "display_name": "Python 3 (ipykernel)",
   "language": "python",
   "name": "python3"
  },
  "language_info": {
   "codemirror_mode": {
    "name": "ipython",
    "version": 3
   },
   "file_extension": ".py",
   "mimetype": "text/x-python",
   "name": "python",
   "nbconvert_exporter": "python",
   "pygments_lexer": "ipython3",
   "version": "3.9.7"
  }
 },
 "nbformat": 4,
 "nbformat_minor": 5
}
