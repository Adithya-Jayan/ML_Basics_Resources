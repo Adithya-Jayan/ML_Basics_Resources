{
 "cells": [
  {
   "cell_type": "markdown",
   "id": "a46d8c09",
   "metadata": {},
   "source": [
    "# Material in progress for further sessions\n",
    "Adithya Jayan\n",
    "\n",
    "Code borrowed from: Coursera - Introduction to deep learning - HSE university"
   ]
  },
  {
   "cell_type": "code",
   "execution_count": null,
   "id": "403a63d9",
   "metadata": {},
   "outputs": [],
   "source": [
    "## Code for Autoencoders"
   ]
  },
  {
   "cell_type": "code",
   "execution_count": null,
   "id": "e81c246c",
   "metadata": {},
   "outputs": [],
   "source": [
    "## GANs"
   ]
  },
  {
   "cell_type": "code",
   "execution_count": null,
   "id": "54784897",
   "metadata": {},
   "outputs": [],
   "source": []
  },
  {
   "cell_type": "markdown",
   "id": "63e0743b",
   "metadata": {},
   "source": [
    "Entropy, Feature Importance"
   ]
  },
  {
   "cell_type": "markdown",
   "id": "d132153e",
   "metadata": {},
   "source": [
    "#### Deciding your model\n",
    "\n",
    "Deciding your model might not be straightforward. It depends on various factors like the type of data, the output needed, what we're trying to achive, how fast it needs to be and a lot more.\n",
    "\n",
    "<img src=\"Images/Misunderstanding.jpg\" alt=\"Overfit Model\" width=\"500\"/>\n",
    "\n",
    "<img src=\"Images/Info.jpg\" alt=\"Overfit Model\" width=\"300\"/>\n",
    "\n",
    "ML is like a language, you need to convey what you need through the model\n",
    "- Ex: say you want to predict car price\n",
    "<img src=\"Images/Car1.jpg\" alt=\"Overfit Model\" width=\"500\"/>\n",
    "- Naive way would be to do this\n",
    "<img src=\"Images/Car2.jpg\" alt=\"Overfit Model\" width=\"500\"/>\n",
    "- With some more knowledge, we would know that the images are low level and hence would need some more proccesing compared to high level data.\n",
    "<img src=\"Images/Car3.jpg\" alt=\"Overfit Model\" width=\"500\"/>\n",
    "- Say we wanted to reduce importance of the images on final output\n",
    "<img src=\"Images/Car4.jpg\" alt=\"Overfit Model\" width=\"500\"/>\n"
   ]
  },
  {
   "cell_type": "code",
   "execution_count": null,
   "id": "99e19052",
   "metadata": {},
   "outputs": [],
   "source": []
  },
  {
   "cell_type": "code",
   "execution_count": null,
   "id": "0923d7ce",
   "metadata": {},
   "outputs": [],
   "source": []
  },
  {
   "cell_type": "code",
   "execution_count": null,
   "id": "fdbc9a56",
   "metadata": {},
   "outputs": [],
   "source": []
  },
  {
   "cell_type": "code",
   "execution_count": null,
   "id": "ae7961c8",
   "metadata": {},
   "outputs": [],
   "source": []
  },
  {
   "cell_type": "code",
   "execution_count": null,
   "id": "92a0d7da",
   "metadata": {},
   "outputs": [],
   "source": []
  }
 ],
 "metadata": {
  "kernelspec": {
   "display_name": "Python 3 (ipykernel)",
   "language": "python",
   "name": "python3"
  },
  "language_info": {
   "codemirror_mode": {
    "name": "ipython",
    "version": 3
   },
   "file_extension": ".py",
   "mimetype": "text/x-python",
   "name": "python",
   "nbconvert_exporter": "python",
   "pygments_lexer": "ipython3",
   "version": "3.9.7"
  }
 },
 "nbformat": 4,
 "nbformat_minor": 5
}
