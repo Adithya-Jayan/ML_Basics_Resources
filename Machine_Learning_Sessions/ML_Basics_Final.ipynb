{
 "cells": [
  {
   "cell_type": "markdown",
   "id": "a46d8c09",
   "metadata": {},
   "source": [
    "# Final Session\n",
    "##### 29-April-2022\n",
    "Adithya Jayan\n",
    "\n",
    "Slides borrowed from: Coursera - Introduction to deep learning - HSE university"
   ]
  },
  {
   "cell_type": "markdown",
   "id": "1e736ae2",
   "metadata": {},
   "source": [
    "### Generative Adverserial Networks (GANs)"
   ]
  },
  {
   "cell_type": "markdown",
   "id": "dc7e7842",
   "metadata": {},
   "source": [
    "GANs are generative models. They can generate new data similar to our training data. (Such as realistic faces that do not belong to a particular person)"
   ]
  },
  {
   "cell_type": "markdown",
   "id": "e540c491",
   "metadata": {},
   "source": [
    "<img src=\"https://d18rbf1v22mj88.cloudfront.net/wp-content/uploads/sites/3/2018/03/29200233/GAN_en.png\" alt=\"GANs\" width=\"500\"/>\n"
   ]
  },
  {
   "cell_type": "markdown",
   "id": "2f207130",
   "metadata": {},
   "source": [
    "GANs have been used for a wide variety of problems. They are very powerful. \n",
    "\n",
    "Checkout:  https://gpt3demo.com/apps/gaugan2-by-nvidia"
   ]
  },
  {
   "cell_type": "markdown",
   "id": "722dec11",
   "metadata": {},
   "source": [
    "<img src=\"https://machinelearningknowledge.ai/wp-content/uploads/2020/08/Application-of-Generative-Adversarial-Network-Image-to-Image_Translation.png\" alt=\"GANs\" width=\"900\"/>\n",
    "\n",
    "\n"
   ]
  },
  {
   "cell_type": "markdown",
   "id": "3e6379d6",
   "metadata": {},
   "source": [
    "### RNNs: Recurrent neural networks\n",
    "\n",
    "Used for sequential data : Text, Audios, Videos\n",
    "Any time series data - Like medical sensor data, Financial data etc\n",
    "\n",
    "For example: If we want to train a language model (A model that can generate text in the language. I.e the generated text must make sense and not be a bunch of random words)\n",
    "In such a case, the probability of each word will depend on the previous words spoken. Thus while calculating the probability of a word, we should condition the model on the previous spoken words.\n",
    "\n",
    "Similarly if it is a conversation. It should know the previously spoken conversation to be able to continue in context.\n",
    "\n",
    "(Use in places like chatbots, speech recognition etc)\n",
    "\n",
    "MLP? Nope\n",
    "<img src=\"Images/RNN1.jpg\" alt=\"MLP bad\" width=\"500\"/>\n",
    "\n",
    "Solution?\n",
    "<img src=\"Images/RNN2.jpg\" alt=\"RNN good\" width=\"500\"/>\n",
    "\n",
    "- Here, we eliminate the problem of having an arbritary sequence length\n",
    "- We also manage the number of parameters we requre for the model since each module shares the same parameters and thus requres less in total.\n",
    "\n",
    "\n",
    "Training and Backpropagation, Vanishing and exploding gradients\n",
    "\n",
    "\n",
    "Modern RNNs: LSTM (Long Short term memory networks) and GRU (Gated recurrent Unit)\n",
    "    \n",
    "    "
   ]
  },
  {
   "cell_type": "markdown",
   "id": "d132153e",
   "metadata": {},
   "source": [
    "#### Deciding your model\n",
    "\n",
    "Deciding your model might not be straightforward. It depends on various factors like the type of data, the output needed, what we're trying to achive, how fast it needs to be and a lot more.\n",
    "\n",
    "<img src=\"Images/Misunderstanding.jpg\" alt=\"Overfit Model\" width=\"500\"/>\n",
    "\n",
    "<img src=\"Images/Info.jpg\" alt=\"Overfit Model\" width=\"300\"/>\n",
    "\n",
    "ML is like a language, you need to convey what you need through the model\n",
    "- Ex: say you want to predict car price\n",
    "<img src=\"Images/Car1.jpg\" alt=\"Overfit Model\" width=\"500\"/>\n",
    "- Naive way would be to do this\n",
    "<img src=\"Images/Car2.jpg\" alt=\"Overfit Model\" width=\"500\"/>\n",
    "- With some more knowledge, we would know that the images are low level and hence would need some more proccesing compared to high level data.\n",
    "<img src=\"Images/Car3.jpg\" alt=\"Overfit Model\" width=\"500\"/>\n",
    "- Say we wanted to reduce importance of the images on final output\n",
    "<img src=\"Images/Car4.jpg\" alt=\"Overfit Model\" width=\"500\"/>\n"
   ]
  },
  {
   "cell_type": "markdown",
   "id": "846081f1",
   "metadata": {},
   "source": [
    "#### Keep reading, read research papers, Try out the cool stuff practically, and have fun!!"
   ]
  }
 ],
 "metadata": {
  "kernelspec": {
   "display_name": "Python 3 (ipykernel)",
   "language": "python",
   "name": "python3"
  },
  "language_info": {
   "codemirror_mode": {
    "name": "ipython",
    "version": 3
   },
   "file_extension": ".py",
   "mimetype": "text/x-python",
   "name": "python",
   "nbconvert_exporter": "python",
   "pygments_lexer": "ipython3",
   "version": "3.9.7"
  }
 },
 "nbformat": 4,
 "nbformat_minor": 5
}
